{
  "nbformat": 4,
  "nbformat_minor": 0,
  "metadata": {
    "colab": {
      "name": "Fake_news_detector.ipynb",
      "provenance": [],
      "collapsed_sections": [],
      "include_colab_link": true
    },
    "kernelspec": {
      "name": "python3",
      "display_name": "Python 3"
    }
  },
  "cells": [
    {
      "cell_type": "markdown",
      "metadata": {
        "id": "view-in-github",
        "colab_type": "text"
      },
      "source": [
        "<a href=\"https://colab.research.google.com/github/ceccs18c43/Fake-News-Detector/blob/main/Fake_news_detector.ipynb\" target=\"_parent\"><img src=\"https://colab.research.google.com/assets/colab-badge.svg\" alt=\"Open In Colab\"/></a>"
      ]
    },
    {
      "cell_type": "code",
      "metadata": {
        "id": "_lu5I15e2jms"
      },
      "source": [
        "import pandas as pd"
      ],
      "execution_count": 126,
      "outputs": []
    },
    {
      "cell_type": "code",
      "metadata": {
        "id": "vgvrrpFx2oRR"
      },
      "source": [
        "import numpy as np\n",
        "from sklearn.model_selection import train_test_split\n",
        "from sklearn.feature_extraction.text import TfidfVectorizer\n",
        "import itertools\n",
        "from sklearn import metrics\n",
        "from sklearn.feature_extraction import _stop_words\n",
        "from xgboost import XGBClassifier\n",
        "import nltk\n",
        "from nltk.corpus import stopwords\n"
      ],
      "execution_count": 127,
      "outputs": []
    },
    {
      "cell_type": "markdown",
      "metadata": {
        "id": "XFi2Hpi9Upxe"
      },
      "source": [
        "# Reading training data "
      ]
    },
    {
      "cell_type": "code",
      "metadata": {
        "id": "DcGXreHqBjmx"
      },
      "source": [
        "df = pd.read_csv(\"design data set.csv\")"
      ],
      "execution_count": 128,
      "outputs": []
    },
    {
      "cell_type": "code",
      "metadata": {
        "colab": {
          "base_uri": "https://localhost:8080/"
        },
        "id": "B6HSaSGsB2pq",
        "outputId": "f35b2f61-1fb3-4a47-a2e0-1eb7bfebe3a7"
      },
      "source": [
        "df.shape"
      ],
      "execution_count": 129,
      "outputs": [
        {
          "output_type": "execute_result",
          "data": {
            "text/plain": [
              "(170, 5)"
            ]
          },
          "metadata": {},
          "execution_count": 129
        }
      ]
    },
    {
      "cell_type": "markdown",
      "metadata": {
        "id": "m8hlVLOAVNem"
      },
      "source": [
        "Count of true and fake news"
      ]
    },
    {
      "cell_type": "code",
      "metadata": {
        "colab": {
          "base_uri": "https://localhost:8080/"
        },
        "id": "VuQ2n_ENHXDd",
        "outputId": "ac263ab2-f185-4288-8fb8-71b6d6314b92"
      },
      "source": [
        "df['label'].value_counts()"
      ],
      "execution_count": 130,
      "outputs": [
        {
          "output_type": "execute_result",
          "data": {
            "text/plain": [
              "1    115\n",
              "0     55\n",
              "Name: label, dtype: int64"
            ]
          },
          "metadata": {},
          "execution_count": 130
        }
      ]
    },
    {
      "cell_type": "code",
      "metadata": {
        "colab": {
          "base_uri": "https://localhost:8080/",
          "height": 289
        },
        "id": "2tow0VCS7lJI",
        "outputId": "6ede0d6b-6245-4107-c596-b62c3847e11e"
      },
      "source": [
        "df.head(5)"
      ],
      "execution_count": 131,
      "outputs": [
        {
          "output_type": "execute_result",
          "data": {
            "text/html": [
              "<div>\n",
              "<style scoped>\n",
              "    .dataframe tbody tr th:only-of-type {\n",
              "        vertical-align: middle;\n",
              "    }\n",
              "\n",
              "    .dataframe tbody tr th {\n",
              "        vertical-align: top;\n",
              "    }\n",
              "\n",
              "    .dataframe thead th {\n",
              "        text-align: right;\n",
              "    }\n",
              "</style>\n",
              "<table border=\"1\" class=\"dataframe\">\n",
              "  <thead>\n",
              "    <tr style=\"text-align: right;\">\n",
              "      <th></th>\n",
              "      <th>Unnamed: 0</th>\n",
              "      <th>fact_check_url</th>\n",
              "      <th>news_url</th>\n",
              "      <th>title</th>\n",
              "      <th>label</th>\n",
              "    </tr>\n",
              "  </thead>\n",
              "  <tbody>\n",
              "    <tr>\n",
              "      <th>0</th>\n",
              "      <td>100338</td>\n",
              "      <td>who.int</td>\n",
              "      <td>https://www.who.int/emergencies/diseases/novel...</td>\n",
              "      <td>Should children wear a mask?</td>\n",
              "      <td>1</td>\n",
              "    </tr>\n",
              "    <tr>\n",
              "      <th>1</th>\n",
              "      <td>100339</td>\n",
              "      <td>who.int</td>\n",
              "      <td>https://www.who.int/emergencies/diseases/novel...</td>\n",
              "      <td>Are there situations where children aged 5 yea...</td>\n",
              "      <td>1</td>\n",
              "    </tr>\n",
              "    <tr>\n",
              "      <th>2</th>\n",
              "      <td>100340</td>\n",
              "      <td>who.int</td>\n",
              "      <td>https://www.who.int/emergencies/diseases/novel...</td>\n",
              "      <td>Should children with developmental disabilitie...</td>\n",
              "      <td>1</td>\n",
              "    </tr>\n",
              "    <tr>\n",
              "      <th>3</th>\n",
              "      <td>100341</td>\n",
              "      <td>who.int</td>\n",
              "      <td>https://www.who.int/emergencies/diseases/novel...</td>\n",
              "      <td>Should children who have health issues or a me...</td>\n",
              "      <td>1</td>\n",
              "    </tr>\n",
              "    <tr>\n",
              "      <th>4</th>\n",
              "      <td>100342</td>\n",
              "      <td>who.int</td>\n",
              "      <td>https://www.who.int/emergencies/diseases/novel...</td>\n",
              "      <td>What type of mask should children wear?</td>\n",
              "      <td>1</td>\n",
              "    </tr>\n",
              "  </tbody>\n",
              "</table>\n",
              "</div>"
            ],
            "text/plain": [
              "   Unnamed: 0  ... label\n",
              "0      100338  ...     1\n",
              "1      100339  ...     1\n",
              "2      100340  ...     1\n",
              "3      100341  ...     1\n",
              "4      100342  ...     1\n",
              "\n",
              "[5 rows x 5 columns]"
            ]
          },
          "metadata": {},
          "execution_count": 131
        }
      ]
    },
    {
      "cell_type": "code",
      "metadata": {
        "id": "al_GeyxlVlr7"
      },
      "source": [
        "df = df.dropna()"
      ],
      "execution_count": 132,
      "outputs": []
    },
    {
      "cell_type": "code",
      "metadata": {
        "colab": {
          "base_uri": "https://localhost:8080/"
        },
        "id": "7_qNNOFdInBh",
        "outputId": "2e97b992-f047-4e69-8fe3-e047de5115e4"
      },
      "source": [
        "df.shape"
      ],
      "execution_count": 133,
      "outputs": [
        {
          "output_type": "execute_result",
          "data": {
            "text/plain": [
              "(170, 5)"
            ]
          },
          "metadata": {},
          "execution_count": 133
        }
      ]
    },
    {
      "cell_type": "markdown",
      "metadata": {
        "id": "EpL1jO8SVnl8"
      },
      "source": [
        "Converting input and target values as array format for training"
      ]
    },
    {
      "cell_type": "code",
      "metadata": {
        "id": "eFTa86_L9DZJ"
      },
      "source": [
        "X = df[\"title\"].values\n",
        "y = df.label.values"
      ],
      "execution_count": 134,
      "outputs": []
    },
    {
      "cell_type": "markdown",
      "metadata": {
        "id": "LSG3QtfKWI_s"
      },
      "source": [
        "Converting input text data into vectors using TFidf vectorisation method also removing stop words while doing vectorisation"
      ]
    },
    {
      "cell_type": "markdown",
      "metadata": {
        "id": "PxpgBqyeYiT5"
      },
      "source": [
        "initialising Tfidf model"
      ]
    },
    {
      "cell_type": "code",
      "metadata": {
        "id": "keuoyKcF7wFH"
      },
      "source": [
        "tfidf = TfidfVectorizer(stop_words='english',ngram_range=(1,2),max_df=0.85, min_df=0.01)"
      ],
      "execution_count": 135,
      "outputs": []
    },
    {
      "cell_type": "markdown",
      "metadata": {
        "id": "DWHKsw3qYmqV"
      },
      "source": [
        "fitting the model with the input data"
      ]
    },
    {
      "cell_type": "code",
      "metadata": {
        "id": "NwROt_ap9TfE"
      },
      "source": [
        "X_tfidf = tfidf.fit_transform(X)"
      ],
      "execution_count": 136,
      "outputs": []
    },
    {
      "cell_type": "markdown",
      "metadata": {
        "id": "n7_Px7IpZJst"
      },
      "source": [
        "splitting the data into training and testing in the ratio of 80:20"
      ]
    },
    {
      "cell_type": "code",
      "metadata": {
        "id": "R_XhW7N69iDV"
      },
      "source": [
        "X_tfidf_train, X_tfidf_test, y_label_train, y_label_test = train_test_split(X_tfidf,y, test_size = 0.2, random_state=120)\n"
      ],
      "execution_count": 117,
      "outputs": []
    },
    {
      "cell_type": "markdown",
      "metadata": {
        "id": "RwjkqSqOZ8qG"
      },
      "source": [
        "initialising XGBoost Classifier"
      ]
    },
    {
      "cell_type": "code",
      "metadata": {
        "id": "G82YDqgz-Ink"
      },
      "source": [
        "xgb = XGBClassifier()"
      ],
      "execution_count": 118,
      "outputs": []
    },
    {
      "cell_type": "markdown",
      "metadata": {
        "id": "5z1ObsYGaFCc"
      },
      "source": [
        "fitting or training the input data in XGBoost classifier"
      ]
    },
    {
      "cell_type": "code",
      "metadata": {
        "colab": {
          "base_uri": "https://localhost:8080/"
        },
        "id": "6jYA2FNb-kxe",
        "outputId": "9ca6d8d6-ceb1-4e36-a035-f32af8e3443c"
      },
      "source": [
        "xgb.fit(X_tfidf_train, y_label_train)\n",
        "\n",
        "\n"
      ],
      "execution_count": 119,
      "outputs": [
        {
          "output_type": "execute_result",
          "data": {
            "text/plain": [
              "XGBClassifier()"
            ]
          },
          "metadata": {},
          "execution_count": 119
        }
      ]
    },
    {
      "cell_type": "markdown",
      "metadata": {
        "id": "c6jK3YjIbINJ"
      },
      "source": [
        "predict test data"
      ]
    },
    {
      "cell_type": "code",
      "metadata": {
        "id": "rzZ4IIpmadof"
      },
      "source": [
        "y_xgb_pred = xgb.predict(X_tfidf_test)"
      ],
      "execution_count": 120,
      "outputs": []
    },
    {
      "cell_type": "code",
      "metadata": {
        "colab": {
          "base_uri": "https://localhost:8080/"
        },
        "id": "77fdmlK-bSuX",
        "outputId": "0c07089a-24b8-447f-edf7-92b565839a88"
      },
      "source": [
        "y_xgb_pred"
      ],
      "execution_count": 121,
      "outputs": [
        {
          "output_type": "execute_result",
          "data": {
            "text/plain": [
              "array([1, 1, 1, 1, 0, 1, 1, 1, 1, 0, 1, 1, 1, 1, 1, 1, 1, 0, 1, 0, 1, 1,\n",
              "       1, 1, 0, 1, 1, 1, 1, 1, 1, 1, 1, 1])"
            ]
          },
          "metadata": {},
          "execution_count": 121
        }
      ]
    },
    {
      "cell_type": "code",
      "metadata": {
        "colab": {
          "base_uri": "https://localhost:8080/"
        },
        "id": "D0hvtaTZbi6M",
        "outputId": "bcd613ca-c083-4e0d-a924-79aa3782b0e1"
      },
      "source": [
        "y_label_test"
      ],
      "execution_count": 122,
      "outputs": [
        {
          "output_type": "execute_result",
          "data": {
            "text/plain": [
              "array([1, 1, 1, 1, 1, 0, 1, 1, 1, 0, 1, 0, 1, 1, 1, 1, 1, 0, 1, 0, 1, 1,\n",
              "       1, 1, 0, 1, 1, 1, 1, 1, 1, 1, 1, 1])"
            ]
          },
          "metadata": {},
          "execution_count": 122
        }
      ]
    },
    {
      "cell_type": "code",
      "metadata": {
        "id": "bCpwKh9Z_ZCB"
      },
      "source": [
        "from sklearn.metrics import  accuracy_score"
      ],
      "execution_count": 123,
      "outputs": []
    },
    {
      "cell_type": "code",
      "metadata": {
        "colab": {
          "base_uri": "https://localhost:8080/"
        },
        "id": "pEyfFHr0AJ9t",
        "outputId": "a596c2fe-b2ac-4dbb-d594-2a3468a3dde0"
      },
      "source": [
        "print('XGBOOST ACCURACY \\n')\n",
        "print ( \"Accuracy score {:.4}%\".format(accuracy_score(y_label_test, y_xgb_pred)*100) )"
      ],
      "execution_count": 124,
      "outputs": [
        {
          "output_type": "stream",
          "name": "stdout",
          "text": [
            "XGBOOST ACCURACY \n",
            "\n",
            "Accuracy score 91.18%\n"
          ]
        }
      ]
    },
    {
      "cell_type": "code",
      "metadata": {
        "id": "tkIp-_DhLsVP"
      },
      "source": [
        " "
      ],
      "execution_count": null,
      "outputs": []
    }
  ]
}